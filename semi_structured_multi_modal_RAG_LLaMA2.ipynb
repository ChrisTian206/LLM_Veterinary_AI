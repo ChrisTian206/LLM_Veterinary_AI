{
 "cells": [
  {
   "cell_type": "code",
   "execution_count": null,
   "metadata": {},
   "outputs": [],
   "source": [
    "! pip install langchain langchain-chroma \"unstructured[all-docs]\" pydantic lxml"
   ]
  },
  {
   "cell_type": "code",
   "execution_count": null,
   "metadata": {},
   "outputs": [
    {
     "name": "stderr",
     "output_type": "stream",
     "text": [
      "The `max_size` parameter is deprecated and will be removed in v4.26. Please specify in `size['longest_edge'] instead`.\n"
     ]
    }
   ],
   "source": [
    "from typing import Any\n",
    "from pydantic import BaseModel\n",
    "from unstructured.partition.pdf import partition_pdf\n",
    "\n",
    "# Path to save images\n",
    "path = \"./figures/shortExample2/\"\n",
    "\n",
    "# Get elements\n",
    "raw_pdf_elements = partition_pdf(\n",
    "    filename='./data/shortExample2_Nutrition_20Pgs.pdf',\n",
    "    # Using pdf format to find embedded image blocks\n",
    "    extract_images_in_pdf=True,\n",
    "    # Use layout model (YOLOX) to get bounding boxes (for tables) and find titles\n",
    "    # Titles are any sub-section of the document\n",
    "    infer_table_structure=True,\n",
    "    # Post processing to aggregate text once we have the title\n",
    "    chunking_strategy=\"by_title\",\n",
    "    # Chunking params to aggregate text blocks\n",
    "    # Attempt to create a new chunk 3800 chars\n",
    "    # Attempt to keep chunks > 2000 chars\n",
    "    # Hard max on chunks\n",
    "    max_characters=1000,\n",
    "    new_after_n_chars=500,\n",
    "    combine_text_under_n_chars=800,\n",
    "    image_output_dir_path=path,\n",
    ")"
   ]
  },
  {
   "cell_type": "code",
   "execution_count": 2,
   "metadata": {},
   "outputs": [
    {
     "data": {
      "text/plain": [
       "{\"<class 'unstructured.documents.elements.CompositeElement'>\": 77}"
      ]
     },
     "execution_count": 2,
     "metadata": {},
     "output_type": "execute_result"
    }
   ],
   "source": [
    "# Create a dictionary to store counts of each type\n",
    "category_counts = {}\n",
    "\n",
    "for element in raw_pdf_elements:\n",
    "    category = str(type(element))\n",
    "    if category in category_counts:\n",
    "        category_counts[category] += 1\n",
    "    else:\n",
    "        category_counts[category] = 1\n",
    "\n",
    "# Unique_categories will have unique elements\n",
    "# TableChunk if Table > max chars set above\n",
    "unique_categories = set(category_counts.keys())\n",
    "category_counts"
   ]
  },
  {
   "cell_type": "code",
   "execution_count": 3,
   "metadata": {},
   "outputs": [
    {
     "name": "stdout",
     "output_type": "stream",
     "text": [
      "0\n",
      "77\n"
     ]
    }
   ],
   "source": [
    "class Element(BaseModel):\n",
    "    type: str\n",
    "    text: Any\n",
    "\n",
    "\n",
    "# Categorize by type\n",
    "categorized_elements = []\n",
    "for element in raw_pdf_elements:\n",
    "    if \"unstructured.documents.elements.Table\" in str(type(element)):\n",
    "        categorized_elements.append(Element(type=\"table\", text=str(element)))\n",
    "    elif \"unstructured.documents.elements.CompositeElement\" in str(type(element)):\n",
    "        categorized_elements.append(Element(type=\"text\", text=str(element)))\n",
    "\n",
    "# Tables\n",
    "table_elements = [e for e in categorized_elements if e.type == \"table\"]\n",
    "print(len(table_elements))\n",
    "\n",
    "# Text\n",
    "text_elements = [e for e in categorized_elements if e.type == \"text\"]\n",
    "print(len(text_elements))"
   ]
  },
  {
   "cell_type": "code",
   "execution_count": 4,
   "metadata": {},
   "outputs": [],
   "source": [
    "from langchain_community.chat_models import ChatOllama\n",
    "from langchain_core.output_parsers import StrOutputParser\n",
    "from langchain_core.prompts import ChatPromptTemplate"
   ]
  },
  {
   "cell_type": "code",
   "execution_count": 5,
   "metadata": {},
   "outputs": [
    {
     "name": "stderr",
     "output_type": "stream",
     "text": [
      "/var/folders/1y/_wk9p9f500d8xnl6kjnnkbp40000gn/T/ipykernel_68169/1508673027.py:7: LangChainDeprecationWarning: The class `ChatOllama` was deprecated in LangChain 0.3.1 and will be removed in 1.0.0. An updated version of the class exists in the :class:`~langchain-ollama package and should be used instead. To use it run `pip install -U :class:`~langchain-ollama` and import as `from :class:`~langchain_ollama import ChatOllama``.\n",
      "  model = ChatOllama(model=\"llama3.2\")\n"
     ]
    }
   ],
   "source": [
    "# Prompt\n",
    "prompt_text = \"\"\"You are an assistant tasked with summarizing tables and text. \\\n",
    "Give a concise summary of the table or text. Table or text chunk: {element} \"\"\"\n",
    "prompt = ChatPromptTemplate.from_template(prompt_text)\n",
    "\n",
    "# Summary chain\n",
    "model = ChatOllama(model=\"llama3.2\")\n",
    "summarize_chain = {\"element\": lambda x: x} | prompt | model | StrOutputParser()"
   ]
  },
  {
   "cell_type": "code",
   "execution_count": 6,
   "metadata": {},
   "outputs": [],
   "source": [
    "# Apply to text\n",
    "texts = [i.text for i in text_elements if i.text != \"\"]\n",
    "text_summaries = summarize_chain.batch(texts, {\"max_concurrency\": 5})"
   ]
  },
  {
   "cell_type": "code",
   "execution_count": 7,
   "metadata": {},
   "outputs": [],
   "source": [
    "# Apply to tables\n",
    "tables = [i.text for i in table_elements]\n",
    "table_summaries = summarize_chain.batch(tables, {\"max_concurrency\": 5})"
   ]
  },
  {
   "cell_type": "code",
   "execution_count": 8,
   "metadata": {},
   "outputs": [
    {
     "name": "stdout",
     "output_type": "stream",
     "text": [
      "[\"Here's a concise summary:\\n\\nCats have a less refined sense of taste compared to humans, with only 473 taste buds (compared to 9,000 in humans). Their sense of taste is limited to basic flavors like sour, bitter, and salty, as they are strictly carnivorous and don't need to detect sweet tastes.\", 'Here is a concise summary:\\n\\nCats use their unique tongues for grooming and catching prey, with tiny hook-like barbs that help remove feathers and fur. They also have a superior sense of smell, which compensates for their poor taste sense.', \"Here's a concise summary:\\n\\nCats are obligate carnivores requiring a high-protein diet (at least 26%) and moderate fat intake to thrive. Their natural diet consists of meat, which provides 40% protein, 50% fat, and only 3% carbohydrates. Cats have unique adaptations that allow them to metabolize protein and fat efficiently, making it essential to avoid feeding dog food or low-protein diets, as they can lead to nutrient deficiencies.\", 'Here is a concise summary:\\n\\nCats require a diet rich in fat (at least 9%) for energy and overall health, including a healthy nervous system, skin, and metabolic processes. They lack amylases that aid in carbohydrate digestion, which can lead to decreased protein digestion efficiency and high blood glucose levels if excessive carbs are consumed.', 'Here is a concise summary of the text:\\n\\nThe table provides basic nutritional requirements for cats, categorizing them into four categories: minimal requirement (bare minimum), adequate intake, recommended allowance, and safe upper limit. Note that some columns do not have numerical values due to ongoing research and uncertainty about specific nutrient needs.', 'Here is a concise summary:\\n\\nThe table provides the nutrient requirements for adult cats, including protein and amino acid content. The recommended intake allowances are listed in grams per kilogram of minimal dry matter food. The requirements include individual amino acids such as Arginine, Histidine, Isoleucine, Methionine, Leucine, Lysine, Phenylalanine, Threonine, Tryptophan, and Valine, as well as taurine.', 'The table provides the recommended daily intake limits for various nutrients and vitamins in relation to a minimal dry matter food. The \"Safe\" column indicates the safe upper limit, \"Adequate\" shows the adequate intake, and \"Recommended Upper Intake Allowance\" represents the maximum daily allowance.\\n\\nThe nutrients include:\\n\\n- Fatty acids (linoleic acid, alpha-linolenic acid, arachidonic acid, eicosapentaenoic acid)\\n- Minerals (calcium, phosphorus, magnesium, sodium, potassium, chloride, iron, copper, zinc, manganese, selenium, iodine)\\n- Vitamins (vitamin A, cholecalciferol, vitamin E, menadione, thiamin, riboflavin, pyridoxine)\\n\\nThe limits vary across different nutrients and ranges from 0.02 to 1,400 micrograms or milligrams per kilogram of minimal dry matter food.', \"The table lists nutrient requirements for adult cats in terms of amount (Safe, Minimal Adequate, Recommended, and Upper) per kilogram of dry matter food. The nutrients include:\\n\\n* Niacin (Vitamin B complex)\\n* Pantothenic Acid (Vitamin B5- Coenzyme A)\\n* Cobalamin (Vitamin B12)\\n* Folic Acid (Vitamin B9)\\n* Biotin\\n* Choline\\n\\nThese values are based on the National Research Council's guidelines for cats and have been adapted from the National Academies Press.\", \"Here are concise summaries:\\n\\n1. To calculate amount per kg of dry matter for each nutrient, multiply value by pet food's energy density (calories ME/kg) and divide by 4,000.\\n\\n2. Add 0.02g arginine to the diet for every gram of crude protein above 200g.\", \"Here's a concise summary of the text:\\n\\nThe text provides guidelines for essential amino acids in dietary allowances:\\n\\n- Arginine allowance is not specified.\\n- Methionine = half of methionine + cystine requirement\\n- Black hair color requires equal or greater tyrosine and phenylalanine amounts.\\n- Taurine allowance varies by diet type: 0.4g/kg for purified diets, 1.0g/kg for dry expanded diets, and 1.7g/kg for canned diets.\", 'Here is a concise summary:\\n\\nKey points about supplements:\\n\\n- Eicosapentaenoic acid should not exceed 20% of total eicosapentaenoic plus docosahexaenoic amount.\\n- Certain oxides of iron and copper should be avoided due to low bioavailability.\\n- Vitamin A equivalents: 0.3 µg all-trans retinol = 1 µg retinol = 3.333 IU vitamin A.\\n- Cholecalciferol is equivalent to 40 IU vitamin D3 per 1 µg.\\n- Cats require a metabolic but not dietary requirement of certain supplements, but the exact amount is unclear.', \"Here is a concise summary:\\n\\nFor cats, their diet must include over 20 amino acids to be complete. Amino acids are the building blocks of proteins and must be present in adequate amounts with proper balance. Some amino acids can be synthesized by the cat's body, while others (essential amino acids) must be obtained through their diet.\", \"Here's a concise summary:\\n\\nCats require 11 essential amino acids, but cannot convert one, taurine, from other sources. Without enough taurine, cats can develop blindness and heart problems, as well as reproductive issues such as infertility and birth defects.\", 'Here is a concise summary:\\n\\nCats require high amounts of arginine, methionine, and cysteine for proper function. Insufficient arginine can lead to neurological issues due to ammonia buildup, while insufficient methionine and cysteine can impair energy production, hair growth, and scent marking (through felinine excretion).', \"Here's a concise summary:\\n\\nTwo amino acids, tyrosine and carnitine, are conditionally essential for cats due to limited production by their bodies. Tyrosine helps with melanin production and is linked to a specific skin discoloration in black cats. Carnitine plays a role in weight loss and the treatment of hepatic lipidosis in cats.\", 'Here is a concise summary:\\n\\nCats have limited ability to convert certain nutrients into their active forms. They need added vitamins and minerals, including pyridoxine (B6), cobalamin (B12), vitamin A (in the form of retinol), and vitamin D (calcitriol), due to their unique physiology.', \"Here's a concise summary:\\n\\nCats are prone to a calcium deficiency if they're not eating a nutritionally balanced diet. This can be caused by exclusive meat consumption or excessive lactation, leading to an extreme drain on the queen's calcium reserves.\", 'Here is a concise summary:\\n\\nPhosphorus is essential for cats, and maintaining a balance with calcium is crucial to prevent bone and kidney disorders. The ideal ratio varies by life stage: kittens require more calcium (1.8%) to (1.6%) phosphorus, while adult cats need 0.9% calcium to 0.8% phosphorus.', \"Here is a concise summary:\\n\\nCommercial cat foods have led to a multi-billion-dollar industry, with manufacturers conducting research to create nutritious diets without supplements. A cat's diet affects overall health, including haircoat, weight, activity level, and stool quality. Poor diet can lead to issues such as loose or mushy stools, diarrhea, or excessive fiber, indicating indigestibles are being unused by the body.\", \"Here's a concise summary:\\n\\nCommercial cat food labels provide feeding instructions based on weight. However, manufacturers often recommend serving sizes greater than cats actually need. To ensure optimal nutrition, monitor your cat's weight and adjust feeding amounts accordingly. Additionally, individual cats require customized diets tailored to their size, health, age, and activity level.\", 'Here is a concise summary:\\n\\nCanned and dry cat foods have different nutritional profiles. Canned food typically contains less protein and calories per ounce compared to dry food, due to higher moisture content. However, both types of food can be high or low quality, with varying ingredient quality affecting their value.', \"Here's a concise summary:\\n\\nDry cat food typically contains carbohydrates from grains like wheat, corn, or rice. Grain-free options use alternative sources like potatoes. Processing at 150°F (65.5°C) makes the starches more digestible. Dry foods are cost-effective and convenient, but may lead to obesity if fed freely.\", 'Here is a concise summary:\\n\\nDry cat food can help keep teeth clean and sharp due to its abrasive nature, but it also carries potential drawbacks. These include lower palatability compared to other types of food, potentially high carbohydrate content, and variable protein levels that may not meet feline nutritional needs.', \"Here's a concise summary:\\n\\nDry cat food has potential drawbacks, including:\\n\\n- High carbohydrate content that may contribute to diabetes\\n- Lower moisture content that can lead to FLUTD (Feline Lower Urinary Tract Disease) due to dehydration risk\\n\\nAdditionally, dry foods lose nutritional value over time and should be replaced after 6 months.\", 'Here is a concise summary:\\n\\nThe article discusses the characteristics of canned cat food, emphasizing that many inexpensive options are highly processed and lack essential nutrients. Premium brands, however, tend to have fewer carbohydrates, more fat for energy, and may be preferred by cats with strong taste preferences.', 'Here is a concise summary:\\n\\nCanned cat food should not be left out for more than 20 minutes to prevent unpleasant odors. Opened cans should be covered and refrigerated, while the contents must be warmed to room temperature before feeding. Additionally, there is a potential link between canned cat food consumption (especially pop-top cans) and an increased risk of hyperthyroidism due to the presence of bisphenol A.', \"Here's a concise summary:\\n\\nCommercial cat foods can be categorized into generic, popular, and premium brands. Premium brands tend to have higher quality proteins, fewer fillers, and are less expensive in the long run due to cats requiring less food. Contrary to common misconception, both dry and canned foods contain protein from both meat and grain sources, with premium foods having a greater percentage of meat-derived proteins.\", 'Here is a concise summary:\\n\\nSome pet food manufacturers prioritize palatability by adding certain ingredients, potentially at the expense of nutritional value. Gourmet pet foods often have high protein and fat content but may not be nutritionally balanced due to being made from single sources like meat or organs. To ensure completeness, these products must contain additional ingredients.', 'Here is a concise summary:\\n\\nPrivate-label pet foods, sold in stores, often carry store names and list ingredients as required by law. They are less expensive than popular brands, using lower-cost ingredients with varying nutrient sources per batch. This can result in lower digestibility due to added indigestible fibers.', \"Here's a concise summary:\\n\\nPopular cat food brands are widely available but often contain less meat than premium options, with grains typically listed first in their ingredient lists.\", 'Here is a concise summary:\\n\\nPremium pet foods offer highly digestible and nutritious ingredients in fixed formulas, validated by AAFCO feeding studies. They are often available through veterinarians or specialty stores and can provide cost-effective feeding due to their high-quality ingredients being easily digested, allowing for smaller serving sizes.', 'The table or text discusses cat food labeling guidelines established by the FDA. Key points include:\\n\\n* Ingredients are listed in order from greatest to least amount\\n* The labels do not provide enough information to determine exact nutrient content\\n* Nutrients must be converted to dry weight for accurate comparison\\n* The quality of ingredients is not indicated on the label', 'The ingredient list provides only a rough estimate of food quality, with varying protein sources (meat, poultry, fish, etc.) having different levels of quality and digestibility. The presence of specific proteins on the label does not guarantee high-quality ingredients, as minimum requirements may be as low as 3%.', 'Here is a concise summary:\\n\\nA pet food product\\'s name indicates its primary protein source if it contains words like \"beef\" or \"chicken\". The product must be at least 95% made from this single source, with added water bringing the overall content to 70%. Ingredient lists must list the main ingredient first by weight.', 'Here\\'s a concise summary:\\n\\nFor pet food products, the name containing certain keywords (dinner, with, flavor) indicates specific minimum beef content requirements: \\n\\n- \"dinner\" products must have at least 25% beef.\\n- Products named \"with\" ingredients contain only 3% of that ingredient. \\n- The \"flavor\" rule requires a detectable amount of the ingredient, but no specific percentage is specified.', 'Here is a concise summary:\\n\\nPet food labels must guarantee minimum percentages of crude protein and fat, and maximum percentages of crude fiber and moisture. Some manufacturers also include guarantees for other nutrients like ash, taurine, and magnesium. However, these guarantees do not indicate the digestibility of the ingredients and are based on the product as it is found in its original form (\"as fed\" or \"as is\").', \"Here's a concise summary:\\n\\nCanned foods have a higher moisture content (75-78%) compared to dry foods (10-12%), which affects their guaranteed analyses.\", 'To compare nutrient levels between canned and dry products, convert guarantees to a \"dry matter basis\" by calculating:\\n\\n1. Dry matter percentage: 100% - moisture percentage\\n2. Convert guarantee to dry matter basis:\\n   - Divide guarantee by dry matter percentage\\n   - Multiply by 100\\n\\nExample: Canned food is 25% dry matter (75% moisture). If it guarantees 8% crude protein, convert to dry matter basis by dividing 8 by 25 and multiplying by 100, resulting in 32% dry matter protein.', 'Here is a concise summary:\\n\\nAAFCO guidelines ensure the quality of animal foods. A food label must indicate whether it meets one of two standards: (1) an AAFCO profile based on theoretical nutritional needs, or (2) feeding tests that demonstrate actual cats can thrive on the product.', \"Here is a concise summary:\\n\\nThe calculation approach has limitations due to incomplete knowledge about cat nutrients, and there's no guarantee of digestibility and absorption. Feeding trials are preferred as they demonstrate product effectiveness, but have drawbacks such as short trial periods (6 months) and limited test subjects.\", 'The text provides guidelines for selecting a cat food that meets the nutritional needs of kittens and adult cats. Key points include:\\n\\n* Look for products labeled as \"complete and balanced\" to ensure it meets nutritional standards.\\n* Foods formulated to support kitten growth must conform to AAFCO profiles for that stage of life (e.g., pregnant, nursing queens, young kittens).\\n* \"All life stages\" formulas require extra protein and calories to accommodate growing kittens and maintain older cats.', 'Here is a concise summary:\\n\\nThere are customized diets available by prescription or through veterinarians to help manage health issues in cats, such as allergies, kidney problems, diabetes, and urinary stones. These diets should only be initiated under veterinary supervision due to potential adverse effects on healthy cats.', 'Here is a concise summary of the text:\\n\\nRaw diets, which emphasize eating primarily raw meat with some vegetables and supplements, pose several risks due to potential bacterial diseases (e.g., Salmonella), parasites, and inadequate nutritional balance. Proper handling, storage, and hygiene are crucial to prevent health problems in cats consuming this diet.', 'Here is a concise summary:\\n\\nCats may not be able to digest large meat bones, but a bone-free diet is also not nutritionally complete. Owners should consult a veterinary nutritionist for guidance on feeding their cat a raw or homemade diet.', 'Here is a concise summary:\\n\\nCats may not choose their own food, even if given options. Instead, many cats will eat only what they like, while others may overeat due to boredom or enthusiasm.', \"Here's a concise summary:\\n\\nCats prefer meat, but a diet consisting only of one type of food (e.g. liver or tuna) can lead to addiction and nutritional deficiencies if not balanced. Feeding your cat a single-ingredient food should be avoided in favor of nutritionally complete cat food, and even then, offering variety is recommended to prevent preference for specialty or gourmet foods.\", 'Here is a concise summary:\\n\\nSome cat owners accidentally create unbalanced diets by giving their pets too many treats, such as liver, raw fish, or milk. Over-supplementation can lead to vitamin A toxicity and antivitamin factor-related deficiencies. To avoid these issues, owners should limit treat amounts and ensure complete dietary balance, rather than relying on treats to supplement an already complete diet.', 'Here is a concise summary:\\n\\nThe amount of food an adult cat needs varies depending on factors such as age, spaying/neutering status, activity level, and whether the cat is pregnant or nursing. Generally, active cats require 25-35 calories per pound of body weight daily, while inactive cats need around 18 calories. Pregnant/nursing cats have significantly higher requirements (45-140 calories per pound).', \"Here is a concise summary:\\n\\nThe ideal food intake for cats depends on various factors such as body type, activity level, coat, and individual metabolism. It's essential to consider each cat's unique needs and adjust their food amount based on these factors.\", 'Here is a concise summary:\\n\\nCats require varying amounts of food depending on their activity level and individual needs. To determine the ideal diet, offer several nutritionally complete cat foods for a short period to see which ones your cat prefers. Once a few options are found, switch between them to provide variety and ensure your cat continues to eat well in case of a recall.', \"Here is a concise summary of the text:\\n\\nThe ideal feeding method for cats depends on their activity level and body condition. If active and well-maintained, dry food can be left out free choice. However, if prone to obesity, meal times should be scheduled with limited access (10-15 minutes) to prevent overeating. Feeding meals has advantages, including knowing the cat's intake, providing a routine, and making medication more manageable.\", 'Here is a concise summary:\\n\\nFor cats with health issues or in multi-cat households, consider the following: offer treats with pills, establish a regimented feeding schedule, monitor meals to ensure timid cats are not excluded, and provide a constant supply of clean, fresh water.', \"Here's a concise summary:\\n\\nKittens grow rapidly from birth to around 7 weeks old, gaining weight at a rate of half an ounce per day, fueled by their mother's milk. After this period, kitten food replaces the milk as their primary source of nutrition until they reach adulthood (around 9 months old).\", 'Here is a concise summary:\\n\\nKittens (12 weeks old) require significantly more protein (twice as much per pound) and calories (50% more per pound) than adult cats, indicating the need for a nutrient-rich diet to support their rapid growth.', \"Here's a concise summary:\\n\\nKittens require more nutrition than adult cats, with high protein and calorie intake essential for muscle building, circulation, and coat growth. A nutritionally complete diet specifically formulated for kittens is crucial to prevent health and development problems. Key nutrients include protein, calories (from fat), vitamins (especially vitamin A), and water.\", 'Here is a concise summary:\\n\\nNewly adopted pedigreed kittens require specific dietary care. The breeder should provide diet guidelines upon purchase, with the kitten following these for the first few days. While labels on cat food packages offer recommended feeding amounts, they may not be suitable for every kitten. Instead, young kittens should be fed as much as they will eat to accommodate their high metabolism and rapid calorie burn.', \"Here is a concise summary:\\n\\nKittens can be fed free choice or at set times, but it's recommended to divide their food into at least three meals a day due to small stomachs. Canned food should be limited to three meals until 7 months old, with dry food left out for snacking. However, early neutering can decrease metabolism by 25%, and feeding recommendations may need to be adjusted by consulting with a veterinarian.\", 'Here is a concise summary:\\n\\nKittens typically gain 1 pound per month until 8-10 months old, when growth slows down at around 6 months but continues until they reach 1-2 years of age for larger breeds. Establishing food preferences before 6 months is crucial to ensure nutritional completeness and encourage healthy eating habits.', \"Kitten owners do not need vitamin and mineral supplements if their cat is eating a balanced diet. In fact, relying on supplements can be detrimental. Consult with a veterinarian if you suspect your kitten's poor appetite may require additional nutrition.\", \"Here is a concise summary:\\n\\nTo support an older cat's health, it's essential to prevent obesity. Geriatric cats require fewer calories (up to 30%) than younger ones. Adjusting their diet accordingly can help maintain a healthy weight. Feeding guidelines include: \\n\\n- Dividing canned food into smaller portions and feeding at regular intervals\\n- Warming canned food slightly before serving\\n- Providing multiple small meals instead of one large meal if the cat is underweight\", \"Here's a concise summary:\\n\\nSenior cats require a reduced-calorie diet of approximately 20 calories per pound (0.45 kg) of body weight per day, but individual needs may vary based on factors such as overall health and weight status.\", 'Here\\'s a concise summary:\\n\\nFeeding an adult cat with high caloric needs beyond the \"senior\" stage can lead to weight gain. To manage weight, feed according to individual factors such as activity level, health, and metabolism. Use the cat food label to calculate daily calories required, then adjust serving size based on weight and activity level. Monitor weight changes and consult a veterinarian if significant weight loss or gain occurs.', \"This text advises cat owners to help their overweight cats lose weight by consulting with a veterinarian first. The veterinarian will provide diet instructions. To safely reduce the cat's weight, follow these guidelines:\\n\\n* Older cats should lose no more than 1.5% of their initial body weight per week.\\n* Avoid feeding table scraps and snacks between meals.\\n* If treats are offered during the day, adjust daily meal amounts accordingly.\\n* For geriatric cats, consider dividing the daily ration into smaller meals throughout the day.\\n\\nConsult a veterinarian before making any changes to your cat's diet or feeding schedule.\", 'Here is a concise summary:\\n\\nOlder cats are sensitive to changes in their diet and drinking water, so any necessary changes should be made gradually to avoid discomfort or intolerance.', \"Here is a concise summary:\\n\\nTo ensure an older cat's nutritional needs are met on a reduced food intake, it's crucial that the cat food is highly digestible and has high-quality protein. Look for meat sources as first ingredients on the label. However, excessive protein can lead to kidney problems in older cats due to their reduced kidney function; adding more than 10% of protein-rich meat products to their diet can cause uremia or kidney failure.\", 'Here is a concise summary:\\n\\nOlder cats may require special dietary care due to decreased taste and smell, leading to appetite issues. To encourage eating, supplement their main food with small amounts of nutritious items like white meat chicken, boiled egg, or yogurt. If weight loss persists, add healthy fats like olive oil or fish oils under veterinary guidance.', 'Here is a concise summary of the text:\\n\\nOlder cats require more vitamins and minerals due to decreased absorption ability. High-quality commercial foods typically contain added B vitamins and balanced minerals, making supplements unnecessary unless the cat has an eating problem. Additionally, low-magnesium diets may be beneficial for cats with FLUTD (Feline Lower Urinary Tract Disease), but are not recommended for all cats.', 'Here is a concise summary:\\n\\nThe text discusses two topics: \\n\\n1. Nutrition: Not all cats can eat dairy products due to lactose intolerance, as it often leads to diarrhea.\\n2. Antioxidants: These substances slow down cell damage caused by free radicals, which are unstable molecules that steal electrons from cells, leading to damage and the need for replacement antioxidants.', \"Here's a concise summary:\\n\\nSupplementing an older cat's diet with antioxidants (e.g. vitamin E, C, Q) may help alleviate aging-related health issues such as osteoarthritis, but specific proof is lacking. Veterinarians often prescribe antioxidant supplements or special diets for cats with certain medical conditions (heart disease, kidney disease, gastrointestinal issues, or obesity).\", \"Here is a concise summary:\\n\\nIt's recommended to introduce a new diet to a cat gradually if there are health issues or changes in appetite. If the cat refuses, mix 80% of their current food with 20% of the new food and gradually increase the proportion of new food over several weeks.\", \"Here's a concise summary of the text:\\n\\nObesity in cats can be caused by overfeeding, affecting up to 40% of all felines. To check if your cat is at a healthy weight, look for a visible layer of fat over the ribs, individual rib bones felt but not seen, and a defined waistline below the rib cage. If these characteristics are absent or replaced with excessive fat, consult a veterinarian to determine the ideal weight for your cat.\", \"Here's a concise summary:\\n\\nExcessive weight in cats can lead to health issues such as arthritis and diabetes. To address this, it's recommended to redirect the cat's eating habits by switching to a high-protein, low-carbohydrate diet. This approach is suggested to be more effective than reducing calorie intake alone, and may even mimic a cat's natural diet.\", \"Here's a concise summary:\\n\\nA responsible cat owner's guidelines for feeding their cat include: eating regular meals twice or three times a day, not supplementing with gourmet foods or table scraps, monitoring food intake, and weighing the cat weekly (aiming for a 1% weight loss per week to avoid health issues).\", \"Here's a concise summary:\\n\\nTo help an overweight indoor cat, try providing daily exercise through toys and activities, and consider supplementing with L-carnitine (250-500mg/day). After 4-8 weeks of weight loss, switch to a high-quality balanced food in the right amount to maintain the desired weight.\", 'Here is a concise summary:\\n\\nCats have specific dietary needs that differ from dogs. Common feeding errors include: \\n\\n1. Feeding dog food to cats, which can lead to severe health issues due to inadequate protein and B vitamins.\\n2. Overdosing on vitamins A and D, calcium, phosphorus, or other supplements, causing sterility, hair loss, metabolic bone disease, and kidney damage.', 'Here is a concise summary:\\n\\nThe table excerpt advises against feeding raw fish to cats due to its lack of essential nutrients, including vitamin B1, and the potential for transmitting diseases. Instead, owners should stick to a balanced cat food diet, avoiding dog food and giving treats such as cooked meats, cottage cheese, or yogurt in moderation.', \"Here is a concise summary:\\n\\nA cat's diet should be balanced and not consist solely of meat or treats, which should not exceed 20% of their daily intake. Uncooked meat, raw fish, and vitamin supplements are not recommended due to health risks. Cats have selective eating habits that can be influenced by environment and location, and serving food at room temperature is preferred. Access to fresh water is crucial, as many cats won't eat if the dish is near the litter box.\"]\n",
      "[]\n"
     ]
    }
   ],
   "source": [
    "print(text_summaries)\n",
    "print(table_summaries)"
   ]
  },
  {
   "cell_type": "markdown",
   "metadata": {},
   "source": [
    "# Image Summary Generatetion\n",
    "From the LangChain Cookbook, they used a LLaVA 7B model to generate image summaries in .txt. Those files will be in the same dir as those images. However, I have llama3.2-vision already installed and setup on my local machine. \n",
    "\n",
    "Llama3.2-vision model is a 11B model which may require a strong computing power and large memory. Switch model if necessary. i.e. Llava, Qwen, Gemma, etc."
   ]
  },
  {
   "cell_type": "markdown",
   "metadata": {},
   "source": [
    "# ⚠️Patch:\n",
    "Generic query often won't trigger the LLM to include image in the response. AI analysis shows it could be a problem of how images summaries were created. Retriever performs sematic matching to retrieve relevant chunks, but the current summaries was written in a outsider perspective. It'd be better to try following prompt in making summaries.\n",
    "\n",
    "'content': 'Describe the image in detail, focusing on any actions, techniques, or procedures depicted related to pet handling or care. Explain the purpose or context of the actions shown, if clear. Be concise and relevant to veterinary advice.'"
   ]
  },
  {
   "cell_type": "markdown",
   "metadata": {},
   "source": [
    "# ✅ Side Note:\n",
    "There are many irrelevant images exist in the textbook, like paragraph divider, section dividers, etc. In future development, consider using a **Node/Agent** to decide if a image should be filtered out for summarization.\n"
   ]
  },
  {
   "cell_type": "code",
   "execution_count": 12,
   "metadata": {},
   "outputs": [
    {
     "name": "stdout",
     "output_type": "stream",
     "text": [
      "⏳ Working on summary for figure-8-6.jpg\n",
      "✅ Summary for figure-8-6.jpg saved to ./figures/shortExample2/figure-8-6.txt\n",
      "⏳ Working on summary for figure-20-20.jpg\n",
      "✅ Summary for figure-20-20.jpg saved to ./figures/shortExample2/figure-20-20.txt\n",
      "⏳ Working on summary for figure-13-11.jpg\n",
      "✅ Summary for figure-13-11.jpg saved to ./figures/shortExample2/figure-13-11.txt\n",
      "⏳ Working on summary for figure-15-14.jpg\n",
      "✅ Summary for figure-15-14.jpg saved to ./figures/shortExample2/figure-15-14.txt\n",
      "⏳ Working on summary for figure-9-7.jpg\n",
      "✅ Summary for figure-9-7.jpg saved to ./figures/shortExample2/figure-9-7.txt\n",
      "⏳ Working on summary for figure-17-16.jpg\n",
      "✅ Summary for figure-17-16.jpg saved to ./figures/shortExample2/figure-17-16.txt\n",
      "⏳ Working on summary for figure-5-3.jpg\n",
      "✅ Summary for figure-5-3.jpg saved to ./figures/shortExample2/figure-5-3.txt\n",
      "⏳ Working on summary for figure-19-18.jpg\n",
      "✅ Summary for figure-19-18.jpg saved to ./figures/shortExample2/figure-19-18.txt\n",
      "⏳ Working on summary for figure-7-5.jpg\n",
      "✅ Summary for figure-7-5.jpg saved to ./figures/shortExample2/figure-7-5.txt\n",
      "⏳ Working on summary for figure-12-10.jpg\n",
      "✅ Summary for figure-12-10.jpg saved to ./figures/shortExample2/figure-12-10.txt\n",
      "⏳ Working on summary for figure-11-9.jpg\n",
      "✅ Summary for figure-11-9.jpg saved to ./figures/shortExample2/figure-11-9.txt\n",
      "⏳ Working on summary for figure-19-19.jpg\n",
      "✅ Summary for figure-19-19.jpg saved to ./figures/shortExample2/figure-19-19.txt\n",
      "⏳ Working on summary for figure-21-21.jpg\n",
      "✅ Summary for figure-21-21.jpg saved to ./figures/shortExample2/figure-21-21.txt\n",
      "⏳ Working on summary for figure-1-1.jpg\n",
      "✅ Summary for figure-1-1.jpg saved to ./figures/shortExample2/figure-1-1.txt\n",
      "⏳ Working on summary for figure-4-2.jpg\n",
      "✅ Summary for figure-4-2.jpg saved to ./figures/shortExample2/figure-4-2.txt\n",
      "⏳ Working on summary for figure-18-17.jpg\n",
      "✅ Summary for figure-18-17.jpg saved to ./figures/shortExample2/figure-18-17.txt\n",
      "⏳ Working on summary for figure-14-13.jpg\n",
      "✅ Summary for figure-14-13.jpg saved to ./figures/shortExample2/figure-14-13.txt\n",
      "⏳ Working on summary for figure-14-12.jpg\n",
      "✅ Summary for figure-14-12.jpg saved to ./figures/shortExample2/figure-14-12.txt\n",
      "⏳ Working on summary for figure-10-8.jpg\n",
      "✅ Summary for figure-10-8.jpg saved to ./figures/shortExample2/figure-10-8.txt\n",
      "⏳ Working on summary for figure-16-15.jpg\n",
      "✅ Summary for figure-16-15.jpg saved to ./figures/shortExample2/figure-16-15.txt\n",
      "⏳ Working on summary for figure-6-4.jpg\n",
      "✅ Summary for figure-6-4.jpg saved to ./figures/shortExample2/figure-6-4.txt\n"
     ]
    }
   ],
   "source": [
    "import ollama\n",
    "import os\n",
    "import base64\n",
    "\n",
    "# Directories\n",
    "image_directory = \"./figures/shortExample2/\"\n",
    "output_directory = \"./figures/shortExample2/\"\n",
    "\n",
    "# Ensure output directory exists\n",
    "os.makedirs(output_directory, exist_ok=True)\n",
    "\n",
    "# Supported image formats\n",
    "supported_extensions = ('.png', '.jpg', '.jpeg')\n",
    "\n",
    "for filename in os.listdir(image_directory):\n",
    "    if filename.lower().endswith(supported_extensions):\n",
    "        image_path = os.path.join(image_directory, filename)\n",
    "        output_filename = os.path.splitext(filename)[0] + \".txt\"\n",
    "        output_path = os.path.join(output_directory, output_filename)\n",
    "\n",
    "        print(f\"⏳ Working on summary for {filename}\")\n",
    "\n",
    "        # Check if the summary file already exists\n",
    "        if os.path.exists(output_path):\n",
    "            print(f\"☑️ Summary for {filename} already exists at {output_path}, skipping.\")\n",
    "            continue\n",
    "\n",
    "        try:\n",
    "            # Read and encode image in base64\n",
    "            with open(image_path, 'rb') as f:\n",
    "                image_data = base64.b64encode(f.read()).decode('utf-8')\n",
    "\n",
    "            # Send image to ollama for vision model processing\n",
    "            response = ollama.chat(\n",
    "                model='llava:7b',\n",
    "                messages=[\n",
    "                    {\n",
    "                        'role': 'user',\n",
    "                        'content': 'Describe the image in detail, focusing on any actions, techniques, or procedures depicted related to pet handling or care. Explain the purpose or context of the actions shown, if clear. Be concise and relevant to veterinary advice. If you think the images has nothing to do with veterinary, do not do anything.',  \n",
    "                        'images': [image_data]\n",
    "                    }\n",
    "                ]\n",
    "            )\n",
    "\n",
    "            # Extract and save the generated summary\n",
    "            summary = response['message']['content']\n",
    "            \n",
    "            with open(output_path, 'w') as f:\n",
    "                f.write(summary)\n",
    "\n",
    "            print(f\"✅ Summary for {filename} saved to {output_path}\")\n",
    "\n",
    "        except Exception as e:\n",
    "            print(f\"❌ Error processing {filename}: {e}\") "
   ]
  },
  {
   "cell_type": "markdown",
   "metadata": {},
   "source": [
    "# Read image and summaries from folder"
   ]
  },
  {
   "cell_type": "code",
   "execution_count": 23,
   "metadata": {},
   "outputs": [
    {
     "data": {
      "text/plain": [
       "['./figures/figure-4-9.jpg',\n",
       " './figures/figure-4-8.jpg',\n",
       " './figures/figure-2-5.jpg',\n",
       " './figures/figure-5-10.jpg',\n",
       " './figures/figure-2-4.jpg',\n",
       " './figures/figure-2-3.jpg',\n",
       " './figures/figure-4-7.jpg',\n",
       " './figures/figure-3-6.jpg',\n",
       " './figures/figure-1-2.jpg',\n",
       " './figures/figure-1-1.jpg']"
      ]
     },
     "execution_count": 23,
     "metadata": {},
     "output_type": "execute_result"
    }
   ],
   "source": [
    "import glob\n",
    "import os\n",
    "\n",
    "path =  \"./figures/shortExample2/\"\n",
    "# Get all .txt files in the directory\n",
    "file_paths = glob.glob(os.path.expanduser(os.path.join(path, \"*.txt\")))\n",
    "\n",
    "# Supported image formats\n",
    "supported_extensions = ('.png', '.jpg', '.jpeg')\n",
    "\n",
    "# Read each file and store its content in a list, and collect corresponding image paths\n",
    "img_summaries = []\n",
    "image_paths = []\n",
    "for file_path in file_paths:\n",
    "    with open(file_path, \"r\") as file:\n",
    "        img_summaries.append(file.read())\n",
    "    \n",
    "    # Derive the original image path from the summary file path\n",
    "    base_filename = os.path.splitext(os.path.basename(file_path))[0]\n",
    "    found_image_path = None\n",
    "    for ext in supported_extensions:\n",
    "        potential_image_path = os.path.join(path, base_filename + ext)\n",
    "        if os.path.exists(potential_image_path):\n",
    "            found_image_path = potential_image_path\n",
    "            break\n",
    "    image_paths.append(found_image_path)\n",
    "\n",
    "# Clean up residual logging\n",
    "# cleaned_img_summary = [\n",
    "#     s.split(\"clip_model_load: total allocated memory: 201.27 MB\\\\n\\\\n\", 1)[1].strip() #Llava Model could left this message at every summary. This line is here to remove the overhead.\n",
    "#     for s in img_summaries\n",
    "# ]\n",
    "\n",
    "# Filter out entries where no corresponding image was found\n",
    "# This ensures cleaned_img_summary and image_paths remain aligned\n",
    "# filtered_img_summaries = []\n",
    "# filtered_image_paths = []\n",
    "# for i, summary in enumerate(cleaned_img_summary):\n",
    "#     if image_paths[i] is not None:\n",
    "#         filtered_img_summaries.append(summary)\n",
    "#         filtered_image_paths.append(image_paths[i])\n",
    "\n",
    "cleaned_img_summary = img_summaries\n",
    "image_paths"
   ]
  },
  {
   "cell_type": "markdown",
   "metadata": {},
   "source": [
    "# Now, storing all those in a vector DB.\n"
   ]
  },
  {
   "cell_type": "code",
   "execution_count": 36,
   "metadata": {},
   "outputs": [],
   "source": [
    "import uuid\n",
    "\n",
    "from langchain.retrievers.multi_vector import MultiVectorRetriever\n",
    "from langchain.storage import InMemoryStore\n",
    "from langchain_chroma import Chroma\n",
    "from langchain_community.embeddings import GPT4AllEmbeddings\n",
    "from langchain_core.documents import Document\n",
    "\n",
    "# The vectorstore to use to index the child chunks\n",
    "vectorstore = Chroma(\n",
    "    collection_name=\"summaries\", embedding_function=GPT4AllEmbeddings()\n",
    ")\n",
    "\n",
    "# The storage layer for the parent documents\n",
    "store = InMemoryStore()  # <- Can we extend this to images\n",
    "id_key = \"doc_id\"\n",
    "\n",
    "# The retriever (empty to start)\n",
    "retriever = MultiVectorRetriever(\n",
    "    vectorstore=vectorstore,\n",
    "    docstore=store,\n",
    "    id_key=id_key,\n",
    ")\n"
   ]
  },
  {
   "cell_type": "code",
   "execution_count": 35,
   "metadata": {},
   "outputs": [
    {
     "name": "stdout",
     "output_type": "stream",
     "text": [
      "Chroma collection 'summaries' has been deleted.\n"
     ]
    }
   ],
   "source": [
    "# Ensure you have initialized your vectorstore variable (e.g., by running previous cells)\n",
    "# This will delete the Chroma collection named \"summaries\"\n",
    "vectorstore.delete_collection()\n",
    "print(\"Chroma collection 'summaries' has been deleted.\")"
   ]
  },
  {
   "cell_type": "code",
   "execution_count": 37,
   "metadata": {},
   "outputs": [],
   "source": [
    "# Add texts\n",
    "if texts:\n",
    "    doc_ids = [str(uuid.uuid4()) for _ in texts]\n",
    "    summary_texts = [\n",
    "        Document(page_content=s, metadata={id_key: doc_ids[i]})\n",
    "        for i, s in enumerate(text_summaries)\n",
    "    ]\n",
    "    retriever.vectorstore.add_documents(summary_texts)\n",
    "    retriever.docstore.mset(list(zip(doc_ids, texts)))\n",
    "\n",
    "\n",
    "# Add tables\n",
    "if tables:\n",
    "    table_ids = [str(uuid.uuid4()) for _ in tables]\n",
    "    summary_tables = [\n",
    "        Document(page_content=s, metadata={id_key: table_ids[i]})\n",
    "        for i, s in enumerate(table_summaries)\n",
    "    ]\n",
    "    retriever.vectorstore.add_documents(summary_tables)\n",
    "    retriever.docstore.mset(list(zip(table_ids, tables)))\n",
    "\n",
    "    # Add images\n",
    "# Add images\n",
    "if cleaned_img_summary:\n",
    "    img_ids = [str(uuid.uuid4()) for _ in cleaned_img_summary]\n",
    "    summary_img = [\n",
    "        Document(page_content=s, metadata={id_key: img_ids[i]})\n",
    "        for i, s in enumerate(cleaned_img_summary)\n",
    "    ]\n",
    "    retriever.vectorstore.add_documents(summary_img)\n",
    "    # Store the image path as the raw document for retrieval\n",
    "    retriever.docstore.mset(\n",
    "        list(zip(img_ids, image_paths))\n",
    "    )\n",
    " # Store the image summary as the raw document"
   ]
  },
  {
   "cell_type": "code",
   "execution_count": 38,
   "metadata": {},
   "outputs": [
    {
     "data": {
      "text/plain": [
       "['./figures/figure-4-8.jpg',\n",
       " './figures/figure-2-4.jpg',\n",
       " './figures/figure-1-1.jpg',\n",
       " './figures/figure-3-6.jpg']"
      ]
     },
     "execution_count": 38,
     "metadata": {},
     "output_type": "execute_result"
    }
   ],
   "source": [
    "try_result = retriever.invoke(\"Images / figures with cat in a white background\")\n",
    "try_result"
   ]
  },
  {
   "cell_type": "code",
   "execution_count": 72,
   "metadata": {},
   "outputs": [],
   "source": [
    "import io\n",
    "import re\n",
    "\n",
    "from IPython.display import HTML, display\n",
    "from langchain_core.runnables import RunnableLambda, RunnablePassthrough\n",
    "from langchain_core.messages import HumanMessage\n",
    "from PIL import Image\n",
    "\n",
    "def plt_img_base64(img_base64):\n",
    "    \"\"\"Disply base64 encoded string as image\"\"\"\n",
    "    # Create an HTML img tag with the base64 string as the source\n",
    "    image_html = f'<img src=\"data:image/jpeg;base64,{img_base64}\" />'\n",
    "    # Display the image by rendering the HTML\n",
    "    display(HTML(image_html))\n",
    "\n",
    "def looks_like_base64(sb):\n",
    "    \"\"\"Check if the string looks like base64\"\"\"\n",
    "    return re.match(\"^[A-Za-z0-9+/]+[=]{0,2}$\", sb) is not None\n",
    "\n",
    "\n",
    "\n",
    "def split_image_text_types(docs):\n",
    "    \"\"\"\n",
    "    Split base64-encoded images and texts from a list of documents/strings.\n",
    "    Handles both Document objects and direct image path strings.\n",
    "    Only the first identified image will be base64 encoded and marked for Markdown rendering.\n",
    "    Subsequent image paths will be added as plain text references.\n",
    "    \"\"\"\n",
    "    b64_images = []\n",
    "    texts = []\n",
    "    image_processed = False # Flag to ensure only one image is processed visually\n",
    "\n",
    "    for doc in docs:\n",
    "        # Determine the content based on whether 'doc' is a Document object or a string\n",
    "        doc_content = doc.page_content if isinstance(doc, Document) else str(doc)\n",
    "\n",
    "        # Check if the content is an image path and if the file exists\n",
    "        if doc_content.lower().endswith(('.png', '.jpg', '.jpeg')) and os.path.exists(doc_content):\n",
    "            if not image_processed: # Process only the first image visually\n",
    "                image_path = doc_content\n",
    "                try:\n",
    "                    with open(image_path, 'rb') as f:\n",
    "                        image_data = base64.b64encode(f.read()).decode('utf-8')\n",
    "                        resized_image_data = resize_base64_image(image_data, size=(1300, 600))\n",
    "                        b64_images.append(resized_image_data)\n",
    "                    # Add the image path for Markdown rendering in the LLM response\n",
    "                    texts.append(f\"IMAGE_PATH_FOR_MD: {image_path}\")\n",
    "                    image_processed = True # Set flag to true after processing the first image\n",
    "                except Exception as e:\n",
    "                    print(f\"Error loading image {image_path}: {e}\")\n",
    "                    texts.append(doc_content) # If error, treat as text\n",
    "            else:\n",
    "                # For subsequent image paths, just add a textual reference without the special tag\n",
    "                texts.append(f\"An additional image related to the context was found at: {os.path.basename(doc_content)}\")\n",
    "        else:\n",
    "            # It's text or a table summary\n",
    "            texts.append(doc_content)\n",
    "    return {\"images\": b64_images, \"texts\": texts}\n",
    "\n",
    "\n",
    "def img_prompt_func(data_dict):\n",
    "    \"\"\"\n",
    "    Construct the messages for the multimodal LLM.\n",
    "    `data_dict` will contain keys: 'context' (which is {'images': [...], 'texts': [...]}) and 'question'.\n",
    "    Instructs the LLM to render ALL image paths found via Markdown, striving to include images where relevant.\n",
    "    \"\"\"\n",
    "    formatted_texts = \"\\n\".join(data_dict[\"context\"][\"texts\"])\n",
    "    messages = []\n",
    "\n",
    "    # Debugging: Print images being passed to the model\n",
    "    print(f\"DEBUG: Images being passed to LLM (visually): {len(data_dict['context']['images'])} image(s)\")\n",
    "    if data_dict[\"context\"][\"images\"]:\n",
    "        print(f\"DEBUG: First visual image (base64 snippet): {data_dict['context']['images'][0][:50]}...\")\n",
    "\n",
    "    # Adding image(s) to the messages if present (this is the visual input)\n",
    "    if data_dict[\"context\"][\"images\"]:\n",
    "        for image in data_dict[\"context\"][\"images\"]:\n",
    "            image_message = {\n",
    "                \"type\": \"image_url\",\n",
    "                \"image_url\": {\"url\": f\"data:image/jpeg;base64,{image}\"},\n",
    "            }\n",
    "            messages.append(image_message)\n",
    "\n",
    "    # Adding the text for analysis, with stronger instructions for Markdown rendering\n",
    "    text_message = {\n",
    "        \"type\": \"text\",\n",
    "        \"text\": (\n",
    "            \"You are a veterinary assistant tasked with providing veterinary advice. \"\n",
    "            \"You will be given a mixed of text, tables, and image references. \"\n",
    "            \"Your primary goal is to use all provided information, including images, to answer the user's question comprehensively. \"\n",
    "            \"It is ESSENTIAL that you identify ALL instances of `IMAGE_PATH_FOR_MD: /path/to/image.jpg` in the context \"\n",
    "            \"and convert them directly into Markdown image syntax within your response. \"\n",
    "            \"For each image, provide a brief, accurate alt text description like `![Description of image content](/path/to/image.jpg)`. \"\n",
    "            \"For example, if the context contains `IMAGE_PATH_FOR_MD: ./figures/cat_pickup.jpg`, you MUST output `![Illustration of cat pickup technique](./figures/cat_pickup.jpg)`. \"\n",
    "            \"Include these Markdown images strategically where they best illustrate your points in the answer. \"\n",
    "            \"Do NOT omit any `IMAGE_PATH_FOR_MD:` entries; they must be rendered as Markdown images. \"\n",
    "            f\"User-provided question: {data_dict['question']}\\n\\n\"\n",
    "            \"Text and / or tables:\\n\"\n",
    "            f\"{formatted_texts}\"\n",
    "        ),\n",
    "    }\n",
    "    messages.append(text_message)\n",
    "    return [HumanMessage(content=messages)]\n",
    "\n",
    "def is_image_data(b64data):\n",
    "    \"\"\"\n",
    "    Check if the base64 data is an image by looking at the start of the data\n",
    "    \"\"\"\n",
    "    image_signatures = {\n",
    "        b\"\\xff\\xd8\\xff\": \"jpg\",\n",
    "        b\"\\x89\\x50\\x4e\\x47\\x0d\\x0a\\x1a\\x0a\": \"png\",\n",
    "        b\"\\x47\\x49\\x46\\x38\": \"gif\",\n",
    "        b\"\\x52\\x49\\x46\\x46\": \"webp\",\n",
    "    }\n",
    "    try:\n",
    "        header = base64.b64decode(b64data)[:8]  # Decode and get the first 8 bytes\n",
    "        for sig, format in image_signatures.items():\n",
    "            if header.startswith(sig):\n",
    "                return True\n",
    "        return False\n",
    "    except Exception:\n",
    "        return False\n",
    "\n",
    "\n",
    "def resize_base64_image(base64_string, size=(128, 128)):\n",
    "    \"\"\"\n",
    "    Resize an image encoded as a Base64 string\n",
    "    \"\"\"\n",
    "    # Decode the Base64 string\n",
    "    img_data = base64.b64decode(base64_string)\n",
    "    img = Image.open(io.BytesIO(img_data))\n",
    "\n",
    "    # Resize the image\n",
    "    resized_img = img.resize(size, Image.LANCZOS)\n",
    "\n",
    "    # Save the resized image to a bytes buffer\n",
    "    buffered = io.BytesIO()\n",
    "    resized_img.save(buffered, format=img.format)\n",
    "\n",
    "    # Encode the resized image to Base64\n",
    "    return base64.b64encode(buffered.getvalue()).decode(\"utf-8\")\n",
    "\n",
    "\n",
    "def multi_modal_rag_chain(retriever):\n",
    "    \"\"\"\n",
    "    Multi-modal RAG chain\n",
    "    \"\"\"\n",
    "\n",
    "    # Multi-modal LLM\n",
    "    model = ChatOllama(model=\"llama3.2-vision\")\n",
    "\n",
    "    # RAG pipeline\n",
    "    chain = (\n",
    "        {\n",
    "            \"context\": retriever | RunnableLambda(split_image_text_types),\n",
    "            \"question\": RunnablePassthrough(),\n",
    "        }\n",
    "        | RunnableLambda(img_prompt_func) # This consumes the {\"context\": {\"images\": ..., \"texts\": ...}, \"question\": ...} dict\n",
    "        | model\n",
    "        | StrOutputParser()\n",
    "    )\n",
    "\n",
    "    return chain\n",
    "\n",
    "# Create RAG chain\n",
    "# Assuming 'retriever' is already defined from previous cells\n",
    "chain_multimodal_rag = multi_modal_rag_chain(retriever)"
   ]
  },
  {
   "cell_type": "code",
   "execution_count": 63,
   "metadata": {},
   "outputs": [
    {
     "data": {
      "text/plain": [
       "4"
      ]
     },
     "execution_count": 63,
     "metadata": {},
     "output_type": "execute_result"
    }
   ],
   "source": [
    "# Check retrieval\n",
    "query = \"what would be the best way to pick up a cat?\"\n",
    "docs = retriever.invoke(query, limit=8)\n",
    "\n",
    "# We get 4 docs\n",
    "len(docs)"
   ]
  },
  {
   "cell_type": "code",
   "execution_count": 77,
   "metadata": {},
   "outputs": [
    {
     "name": "stdout",
     "output_type": "stream",
     "text": [
      "Retrieved 4 documents:\n",
      "\n",
      "--- Document 1 ---\n",
      "Text Content:\n",
      "PICKING UP A CAT\n",
      "\n",
      "As a general rule, it is advisable to reach down and pick up a cat from above. A face-to-face confrontation might provoke the cat into becoming uncooper- ative or aggressive.\n",
      "\n",
      "Cooperative cats can be picked up by placing one hand around the cat beneath the chest and taking hold of the cat’s front legs so they cross over each other, keeping your index finger between them for a secure grip. Pick up the cat and snuggle him close to your body, supporting his hind legs if neces- sary. Cradle his chin with your other hand.\n",
      "\n",
      "To pick up an apprehensive cat, reach down and grasp him by the scruff of the neck.\n",
      "\n",
      "Secure the back feet with your other hand.\n",
      "\n",
      "—o—\n",
      "\n",
      "04_095300 ch01.qxp 10/29/07 3:41 PM Page 3\n",
      "\n",
      "2h\n",
      "\n",
      "--- Document 2 ---\n",
      "Text Content:\n",
      "fh 7\n",
      "\n",
      "04_095300 ch01.qxp 10/29/07 3:41 PM Page 4\n",
      "\n",
      "4 • CAT OWNER’S HOME VETERINARY HANDBOOK\n",
      "\n",
      "Frightened cats can be picked up by covering the animal with a towel. After a minute or two, as the cat becomes calmer, slide the rest of the towel under- neath and lift the cat up as a bundle. This method works for aggressive cats as well, although you may want to wear thick leather gloves and use a thick blan- ket. It is a good idea to push a slip leash over the cat’s head. This way, if he strug- gles and jumps out of your arms, at least he cannot completely escape.\n",
      "\n",
      "--- Document 3 ---\n"
     ]
    },
    {
     "data": {
      "text/html": [
       "<img src=\"data:image/jpeg;base64,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\" />"
      ],
      "text/plain": [
       "<IPython.core.display.HTML object>"
      ]
     },
     "metadata": {},
     "output_type": "display_data"
    },
    {
     "name": "stdout",
     "output_type": "stream",
     "text": [
      "Displayed image from: ./figures/figure-1-1.jpg\n",
      "\n",
      "--- Document 4 ---\n"
     ]
    },
    {
     "data": {
      "text/html": [
       "<img src=\"data:image/jpeg;base64,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\" />"
      ],
      "text/plain": [
       "<IPython.core.display.HTML object>"
      ]
     },
     "metadata": {},
     "output_type": "display_data"
    },
    {
     "name": "stdout",
     "output_type": "stream",
     "text": [
      "Displayed image from: ./figures/figure-3-6.jpg\n",
      "\n",
      "--- LLM Response ---\n",
      "DEBUG: Images being passed to LLM (visually): 1 image(s)\n",
      "DEBUG: First visual image (base64 snippet): /9j/4AAQSkZJRgABAQAAAQABAAD/2wBDAAgGBgcGBQgHBwcJCQ...\n",
      "**Picking Up a Cat: A Step-by-Step Guide**\n",
      "\n",
      "**General Rule:**\n",
      "When picking up a cat, it's best to approach from above to avoid face-to-face confrontation, which can lead to uncooperation or aggression.\n",
      "\n",
      "**Picking Up a Cooperative Cat:**\n",
      "\n",
      "1. Place one hand around the cat beneath the chest.\n",
      "2. Take hold of the cat's front legs, ensuring they cross over each other, with your index finger between them for a secure grip.\n",
      "3. Pick up the cat and snuggle it close to your body, supporting its hind legs if necessary.\n",
      "4. Cradle the cat's chin with your other hand.\n",
      "\n",
      "**Picking Up an Apprehensive Cat:**\n",
      "\n",
      "1. Reach down and grasp the cat by the scruff of the neck.\n",
      "2. Secure the back feet with your other hand.\n",
      "\n",
      "**Picking Up a Frightened or Aggressive Cat:**\n",
      "\n",
      "1. Cover the cat with a towel.\n",
      "2. After a minute or two, as the cat becomes calmer, slide the rest of the towel underneath and lift the cat up as a bundle.\n",
      "3. Consider wearing thick leather gloves and using a thick blanket for added safety.\n",
      "4. Push a slip leash over the cat's head to prevent escape.\n",
      "\n",
      "**Additional Image:**\n",
      "![A cat being picked up by a person, with the cat's front legs crossing over each other](./figures/figure-1-1.jpg)\n",
      "\n",
      "**Image 3-6:**\n",
      "![A cat being picked up by a person, with the cat's front legs crossing over each other](./figures/figure-3-6.jpg)\n"
     ]
    }
   ],
   "source": [
    "# Your query\n",
    "query = \"Can you show me how to pick up a cat? Include images\"\n",
    "\n",
    "# Retrieve documents\n",
    "docs = retriever.invoke(query, limit=6)\n",
    "\n",
    "print(f\"Retrieved {len(docs)} documents:\")\n",
    "\n",
    "# Iterate and display each document\n",
    "for i, doc in enumerate(docs):\n",
    "    doc_content = doc.page_content if isinstance(doc, Document) else str(doc)\n",
    "\n",
    "    print(f\"\\n--- Document {i+1} ---\")\n",
    "    if doc_content.lower().endswith(('.png', '.jpg', '.jpeg')) and os.path.exists(doc_content):\n",
    "        # It's an image path\n",
    "        image_path = doc_content\n",
    "        try:\n",
    "            with open(image_path, 'rb') as f:\n",
    "                image_data = base64.b64encode(f.read()).decode('utf-8')\n",
    "                # Resize for display if needed, using your existing function\n",
    "                # You might want to use a smaller size here for better display in notebook\n",
    "                resized_image_data = resize_base64_image(image_data, size=(600, 300))\n",
    "                plt_img_base64(resized_image_data)\n",
    "                print(f\"Displayed image from: {image_path}\")\n",
    "        except Exception as e:\n",
    "            print(f\"Error reading or displaying image {image_path}: {e}\")\n",
    "    else:\n",
    "        # It's text or a table summary\n",
    "        print(f\"Text Content:\\n{doc_content}\")\n",
    "\n",
    "print(\"\\n--- LLM Response ---\")\n",
    "# Finally, get the LLM's answer using the chain\n",
    "llm_response = chain_multimodal_rag.invoke(query)\n",
    "print(llm_response)\n"
   ]
  },
  {
   "cell_type": "code",
   "execution_count": 78,
   "metadata": {},
   "outputs": [
    {
     "data": {
      "text/markdown": [
       "**Picking Up a Cat: A Step-by-Step Guide**\n",
       "\n",
       "**General Rule:**\n",
       "When picking up a cat, it's best to approach from above to avoid face-to-face confrontation, which can lead to uncooperation or aggression.\n",
       "\n",
       "**Picking Up a Cooperative Cat:**\n",
       "\n",
       "1. Place one hand around the cat beneath the chest.\n",
       "2. Take hold of the cat's front legs, ensuring they cross over each other, with your index finger between them for a secure grip.\n",
       "3. Pick up the cat and snuggle it close to your body, supporting its hind legs if necessary.\n",
       "4. Cradle the cat's chin with your other hand.\n",
       "\n",
       "**Picking Up an Apprehensive Cat:**\n",
       "\n",
       "1. Reach down and grasp the cat by the scruff of the neck.\n",
       "2. Secure the back feet with your other hand.\n",
       "\n",
       "**Picking Up a Frightened or Aggressive Cat:**\n",
       "\n",
       "1. Cover the cat with a towel.\n",
       "2. After a minute or two, as the cat becomes calmer, slide the rest of the towel underneath and lift the cat up as a bundle.\n",
       "3. Consider wearing thick leather gloves and using a thick blanket for added safety.\n",
       "4. Push a slip leash over the cat's head to prevent escape.\n",
       "\n",
       "**Additional Image:**\n",
       "![A cat being picked up by a person, with the cat's front legs crossing over each other](./figures/figure-1-1.jpg)\n",
       "\n",
       "**Image 3-6:**\n",
       "![A cat being picked up by a person, with the cat's front legs crossing over each other](./figures/figure-3-6.jpg)"
      ],
      "text/plain": [
       "<IPython.core.display.Markdown object>"
      ]
     },
     "metadata": {},
     "output_type": "display_data"
    }
   ],
   "source": [
    "from IPython.display import Markdown\n",
    "\n",
    "# Assuming llm_response contains the string output from your chain\n",
    "# llm_response = chain_multimodal_rag.invoke(query) # Run this to get the response\n",
    "display(Markdown(llm_response))"
   ]
  },
  {
   "cell_type": "code",
   "execution_count": 13,
   "metadata": {},
   "outputs": [],
   "source": [
    "# from langchain_core.runnables import RunnablePassthrough, RunnableLambda, RunnableParallel\n",
    "# import base64\n",
    "# import os\n",
    "\n",
    "# def process_retrieved_docs(docs):\n",
    "#     text_content = []\n",
    "#     image_data_list = []\n",
    "#     for doc in docs:\n",
    "#         if doc.page_content.lower().endswith(('.png', '.jpg', '.jpeg')) and os.path.exists(doc.page_content):\n",
    "#             image_path = doc.page_content\n",
    "#             try:\n",
    "#                 with open(image_path, 'rb') as f:\n",
    "#                     image_data = base64.b64encode(f.read()).decode('utf-8')\n",
    "#                     image_data_list.append(image_data)\n",
    "#                 text_content.append(f\"Image from: {os.path.basename(image_path)}\") # Add a textual reference for the LLM\n",
    "#             except Exception as e:\n",
    "#                 print(f\"Error loading image {image_path}: {e}\")\n",
    "#         else:\n",
    "#             text_content.append(doc.page_content)\n",
    "#     return {\"context_text\": \"\\\\n\".join(text_content), \"images\": image_data_list}\n",
    "\n",
    "# # Prompt template\n",
    "# template = \"\"\"Answer the question based only on the following context, which can include text and tables:\n",
    "# {context_text}\n",
    "# Question: {question}\n",
    "# \"\"\"\n",
    "# prompt = ChatPromptTemplate.from_template(template)\n",
    "\n",
    "# # Option 1: LLM\n",
    "# # model = ChatOllama(model=\"llama3.2:latest\")\n",
    "# # Option 2: Multi-modal LLM\n",
    "# model = ChatOllama(model=\"llama3.2-vision\")\n",
    "# # Option 3: Llava model - if you have it installed and prefer it, otherwise llama3.2-vision is fine.\n",
    "# # model = ChatOllama(model=\"llava:7b\")\n",
    "\n",
    "\n",
    "# # RAG pipeline\n",
    "# chain = (\n",
    "#     RunnableParallel(\n",
    "#         docs=retriever, \n",
    "#         question=RunnablePassthrough()\n",
    "#     )\n",
    "#     | RunnableLambda(lambda x: {\n",
    "#         \"processed_context\": process_retrieved_docs(x[\"docs\"]),\n",
    "#         \"question\": x[\"question\"]\n",
    "#     })\n",
    "#     | RunnableLambda(lambda x: {\n",
    "#         \"context_text\": x[\"processed_context\"][\"context_text\"],\n",
    "#         \"images\": x[\"processed_context\"][\"images\"],\n",
    "#         \"question\": x[\"question\"]\n",
    "#     })\n",
    "#     | prompt\n",
    "#     | model.bind(images=RunnableLambda(lambda x: x[\"images\"])) # Pass images to the model\n",
    "#     | StrOutputParser()\n",
    "# )"
   ]
  },
  {
   "cell_type": "code",
   "execution_count": null,
   "metadata": {},
   "outputs": [],
   "source": [
    "# chain.invoke(\n",
    "# \"Does the context contain information about images and images summaries?\"\n",
    "# )"
   ]
  }
 ],
 "metadata": {
  "kernelspec": {
   "display_name": "Python 3",
   "language": "python",
   "name": "python3"
  },
  "language_info": {
   "codemirror_mode": {
    "name": "ipython",
    "version": 3
   },
   "file_extension": ".py",
   "mimetype": "text/x-python",
   "name": "python",
   "nbconvert_exporter": "python",
   "pygments_lexer": "ipython3",
   "version": "3.12.1"
  }
 },
 "nbformat": 4,
 "nbformat_minor": 2
}
