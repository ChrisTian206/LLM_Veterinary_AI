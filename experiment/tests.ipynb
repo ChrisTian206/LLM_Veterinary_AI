{
 "cells": [
  {
   "cell_type": "code",
   "execution_count": null,
   "metadata": {},
   "outputs": [],
   "source": [
    "dummy_texts = [\n",
    "    \"This is a document about cats and their dietary needs.\",\n",
    "    \"Dogs require different nutrition compared to cats.\",\n",
    "    \"Understanding feline behavior is crucial for pet owners.\",\n",
    "    \"Veterinary care for small animals includes various treatments.\",\n",
    "    \"Common parasitic infections in pets and their prevention.\",\n",
    "    \"Importance of vaccination schedules for puppies and kittens.\",\n",
    "    \"Dental hygiene for pets: tips and procedures.\",\n",
    "    \"Managing chronic diseases in older pets.\",\n",
    "    \"First aid techniques for pet emergencies.\",\n",
    "    \"Recognizing symptoms of common pet illnesses.\",\n",
    "    \"The benefits of spaying and neutering pets.\",\n",
    "    \"Nutrition for active and working dogs.\",\n",
    "    \"Preventative care measures for feline health.\",\n",
    "    \"Behavioral training tips for puppies and adult dogs.\",\n",
    "    \"Dealing with anxiety and stress in pets.\",\n",
    "    \"Grooming essentials for healthy pet coats.\",\n",
    "    \"Common skin allergies and their treatments.\",\n",
    "    \"Understanding pet vaccinations and their importance.\",\n",
    "    \"Obesity in pets: causes, prevention, and management.\",\n",
    "    \"Senior pet care: special considerations and dietary needs.\"\n",
    "]"
   ]
  },
  {
   "cell_type": "markdown",
   "metadata": {},
   "source": [
    "# Handling User Input: Analysis Image"
   ]
  },
  {
   "cell_type": "code",
   "execution_count": 1,
   "metadata": {},
   "outputs": [
    {
     "name": "stdout",
     "output_type": "stream",
     "text": [
      " ⏳ Processing image: ./cat.jpg\n",
      "--- Generated Image Summary ---\n",
      "The image depicts an indoor scene with a focus on a cat that appears to be in distress or discomfort. The feline has a predominantly gray coat with patches of white and dark brown fur, particularly noticeable around the face, neck, chest, and paws. Notably, there is significant redness and what seems like irritated skin areas, especially visible on its chest and right side. This could suggest an underlying medical condition or recent injury.\n",
      "\n",
      "The cat's eyes are wide open with a look that might indicate fear or discomfort. Its ears are in a neutral position but slightly tipped backward which can be interpreted as a sign of stress or anxiety in cats. The animal is standing, supported by four visible paws; the right front paw and tail appear particularly disheveled.\n",
      "\n",
      "Surrounding the cat are various objects indicating it's likely within a domestic setting: there's an empty food bowl with what appears to be kibble on its side suggesting recent eating activity or feeding time. To the left is another filled food bowl, possibly containing wet or canned food. In front of the cat lies a blue water dish, and behind it is a pink fabric object that could be a pet bed.\n",
      "\n",
      "The flooring is tiled, which is common in bathrooms where pets are bathed; however, this does not necessarily indicate recent grooming as there's no visible presence of water on its fur or body. The overall context implies the cat may have been recently bathed and might still be wet from the experience.\n"
     ]
    }
   ],
   "source": [
    "query = \"What's going on with my cat? What should I do?\" \n",
    "image_path = \"./cat.jpg\"\n",
    "\n",
    "import os\n",
    "import base64\n",
    "import ollama # Ensure ollama library is installed (pip install ollama)\n",
    "\n",
    "# --- Configuration for the image ---\n",
    "# IMPORTANT: Adjust this path if your cat.jpg is in a different location\n",
    "image_model = \"minicpm-v:8b\" # Or \"llava:7b\" or another suitable vision model you have installed via Ollama\n",
    "\n",
    "# --- 1. Generate a textual summary of the image using an LLM ---\n",
    "print(f\" ⏳ Processing image: {image_path}\")\n",
    "\n",
    "image_summary = \"Could not generate image summary.\" # Default in case of error\n",
    "if not os.path.exists(image_path):\n",
    "    print(f\"Error: Image file not found at {image_path}. Please check the path.\")\n",
    "else:\n",
    "    try:\n",
    "        # Read and encode image in base64\n",
    "        with open(image_path, 'rb') as f:\n",
    "            image_data = base64.b64encode(f.read()).decode('utf-8')\n",
    "\n",
    "        # Updated prompt for detailed image summarization\n",
    "        image_summarization_prompt = \"\"\"From a feline veterinary stand point, provide a highly detailed and objective \n",
    "                description of the image. Focus on all observable elements, actions, \n",
    "                objects, subjects, their attributes (e.g., color, size, texture), \n",
    "                their spatial relationships, and any discernible context or implied scene. \n",
    "                Describe any text present in the image. This description must be exhaustive \n",
    "                and purely factual, capturing every significant visual detail to serve as a \n",
    "                comprehensive textual representation for further analysis by another AI model. \n",
    "                If the image is entirely irrelevant or contains no discernible subject, \n",
    "                state \"No relevant visual information.\".\"\"\"\n",
    "\n",
    "        # Send image to ollama for vision model processing\n",
    "        response = ollama.chat(\n",
    "            model=image_model,\n",
    "            messages=[\n",
    "                {\n",
    "                    'role': 'user',\n",
    "                    'content': image_summarization_prompt,\n",
    "                    'images': [image_data]\n",
    "                }\n",
    "            ]\n",
    "        )\n",
    "        image_summary = response['message']['content']\n",
    "        print(\"--- Generated Image Summary ---\")\n",
    "        print(image_summary)\n",
    "\n",
    "    except Exception as e:\n",
    "        print(f\"Error processing image with Ollama: {e}\")\n",
    "\n",
    "# This 'image_summary' can now be used along with your user's text query\n",
    "# for retrieval or further processing in your RAG pipeline."
   ]
  },
  {
   "cell_type": "markdown",
   "metadata": {},
   "source": [
    "# Handling User Input: Refine Query"
   ]
  },
  {
   "cell_type": "code",
   "execution_count": 2,
   "metadata": {},
   "outputs": [
    {
     "name": "stderr",
     "output_type": "stream",
     "text": [
      "/var/folders/1y/_wk9p9f500d8xnl6kjnnkbp40000gn/T/ipykernel_1790/3946929287.py:14: LangChainDeprecationWarning: The class `ChatOllama` was deprecated in LangChain 0.3.1 and will be removed in 1.0.0. An updated version of the class exists in the :class:`~langchain-ollama package and should be used instead. To use it run `pip install -U :class:`~langchain-ollama` and import as `from :class:`~langchain_ollama import ChatOllama``.\n",
      "  query_refinement_model = ChatOllama(model=\"llama3.2\")\n"
     ]
    },
    {
     "name": "stdout",
     "output_type": "stream",
     "text": [
      "Original user query: What's going on with my cat? What should I do?\n",
      "Image Summary: The image depicts an indoor scene with a focus on a cat that appears to be in distress or discomfort. The feline has a predominantly gray coat with patches of white and dark brown fur, particularly noticeable around the face, neck, chest, and paws. Notably, there is significant redness and what seems like irritated skin areas, especially visible on its chest and right side. This could suggest an underlying medical condition or recent injury.\n",
      "\n",
      "The cat's eyes are wide open with a look that might indicate fear or discomfort. Its ears are in a neutral position but slightly tipped backward which can be interpreted as a sign of stress or anxiety in cats. The animal is standing, supported by four visible paws; the right front paw and tail appear particularly disheveled.\n",
      "\n",
      "Surrounding the cat are various objects indicating it's likely within a domestic setting: there's an empty food bowl with what appears to be kibble on its side suggesting recent eating activity or feeding time. To the left is another filled food bowl, possibly containing wet or canned food. In front of the cat lies a blue water dish, and behind it is a pink fabric object that could be a pet bed.\n",
      "\n",
      "The flooring is tiled, which is common in bathrooms where pets are bathed; however, this does not necessarily indicate recent grooming as there's no visible presence of water on its fur or body. The overall context implies the cat may have been recently bathed and might still be wet from the experience.\n",
      "Refined query: Based on the provided image description, I've refined the query to better capture the user's intent and provide relevant information for a veterinary knowledge base.\n",
      "\n",
      "Refined Query:\n",
      "\n",
      "\"What is the likely cause of my cat's distress, discomfort, and irritated skin areas, particularly around its chest and right side? The feline appears to have recently been bathed, as evidenced by visible water residue on the floor but no apparent wetness or water stains on its fur. Considering this, what are some potential risks associated with bathing a cat, and how can I ensure my pet's safety and well-being during and after grooming sessions? Additionally, are there any signs of skin allergies or sensitivities that might be contributing to my cat's discomfort? What are some suitable treatments or remedies for skin irritation in cats, and are there any specific medications or supplements that may help alleviate my cat's symptoms?\"\n",
      "\n",
      "Relevant keywords added:\n",
      "\n",
      "- Bathing risks\n",
      "- Skin allergies\n",
      "- Sensitivities\n",
      "- Treatments\n",
      "- Remedies\n",
      "- Medications\n",
      "- Supplements\n",
      "\n",
      "Clarified intent:\n",
      "\n",
      "The refined query aims to understand the underlying cause of the cat's distress and discomfort, focusing on potential risks associated with bathing and signs of skin irritation or allergies. It also seeks guidance on suitable treatments, remedies, medications, and supplements that can help alleviate the cat's symptoms.\n",
      "\n",
      "Anticipated related information:\n",
      "\n",
      "- Common causes of skin irritation in cats\n",
      "- Safety precautions for bathing cats\n",
      "- Treatment options for skin allergies and sensitivities in cats\n",
      "- Medications and supplements that may be effective in alleviating symptoms\n"
     ]
    }
   ],
   "source": [
    "import uuid\n",
    "from langchain_community.chat_models import ChatOllama\n",
    "from langchain_core.output_parsers import StrOutputParser\n",
    "from langchain_core.prompts import ChatPromptTemplate\n",
    "from langchain_core.runnables import RunnablePassthrough\n",
    "\n",
    "# Define the LLM for query refinement (using the same model as your RAG chain if appropriate)\n",
    "query_refinement_model = ChatOllama(model=\"llama3.2\")\n",
    "\n",
    "# Prompt for query refinement\n",
    "query_refinement_prompt = ChatPromptTemplate.from_template(\n",
    "    \"\"\"You are an intelligent assistant. Your task is to rephrase and expand the given user query \\\n",
    "into a more detailed and context-rich query that can be used to retrieve relevant information \\\n",
    "from a veterinary knowledge base. Use the provided image description to add visual context \\\n",
    "and relevant keywords to the refined query. Focus on adding relevant keywords, clarifying intent, \\\n",
    "and anticipating related information that might be helpful. The output should be a single, refined query.\n",
    "\n",
    "Original query: {original_query}\n",
    "Image description: {image_summary}\"\"\"\n",
    ")\n",
    "\n",
    "# Create the query refinement chain\n",
    "query_refinement_chain = (\n",
    "    {\n",
    "        \"original_query\": RunnablePassthrough(),\n",
    "        \"image_summary\": RunnablePassthrough()\n",
    "    }\n",
    "    | query_refinement_prompt\n",
    "    | query_refinement_model\n",
    "    | StrOutputParser()\n",
    ")# --- Demonstration of query refinement and then retrieval with scores ---\n",
    "\n",
    "\n",
    "print(f\"Original user query: {query}\")\n",
    "print(f\"Image Summary: {image_summary}\")\n",
    "\n",
    "refined_query = query_refinement_chain.invoke(\n",
    "    {\"original_query\": query, \"image_summary\": image_summary}\n",
    ")\n",
    "print(f\"Refined query: {refined_query}\")\n"
   ]
  }
 ],
 "metadata": {
  "kernelspec": {
   "display_name": "Python 3",
   "language": "python",
   "name": "python3"
  },
  "language_info": {
   "codemirror_mode": {
    "name": "ipython",
    "version": 3
   },
   "file_extension": ".py",
   "mimetype": "text/x-python",
   "name": "python",
   "nbconvert_exporter": "python",
   "pygments_lexer": "ipython3",
   "version": "3.12.1"
  }
 },
 "nbformat": 4,
 "nbformat_minor": 2
}
